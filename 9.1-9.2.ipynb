{
 "cells": [
  {
   "cell_type": "code",
   "id": "initial_id",
   "metadata": {
    "collapsed": true,
    "ExecuteTime": {
     "end_time": "2025-10-01T15:58:19.847363Z",
     "start_time": "2025-10-01T15:58:19.844598Z"
    }
   },
   "source": [
    "def good():\n",
    "    return ['Harry', 'Ron', 'Hermione']"
   ],
   "outputs": [],
   "execution_count": 64
  },
  {
   "metadata": {
    "ExecuteTime": {
     "end_time": "2025-10-01T15:58:19.856892Z",
     "start_time": "2025-10-01T15:58:19.854135Z"
    }
   },
   "cell_type": "code",
   "source": "good()",
   "id": "f26f18d6e661bcff",
   "outputs": [
    {
     "data": {
      "text/plain": [
       "['Harry', 'Ron', 'Hermione']"
      ]
     },
     "execution_count": 65,
     "metadata": {},
     "output_type": "execute_result"
    }
   ],
   "execution_count": 65
  },
  {
   "metadata": {
    "ExecuteTime": {
     "end_time": "2025-10-01T15:58:19.863233Z",
     "start_time": "2025-10-01T15:58:19.860638Z"
    }
   },
   "cell_type": "code",
   "source": [
    "def get_odds(count=0):\n",
    "    for i in range(1, 10):\n",
    "        if not i % 2 == 0:\n",
    "            count += 1\n",
    "            if count == 3:\n",
    "                return i"
   ],
   "id": "b4cffd894907d91d",
   "outputs": [],
   "execution_count": 66
  },
  {
   "metadata": {
    "ExecuteTime": {
     "end_time": "2025-10-01T15:58:19.874772Z",
     "start_time": "2025-10-01T15:58:19.872218Z"
    }
   },
   "cell_type": "code",
   "source": "get_odds()",
   "id": "4a99b08b98c3a98",
   "outputs": [
    {
     "data": {
      "text/plain": [
       "5"
      ]
     },
     "execution_count": 67,
     "metadata": {},
     "output_type": "execute_result"
    }
   ],
   "execution_count": 67
  }
 ],
 "metadata": {
  "kernelspec": {
   "display_name": "Python 3",
   "language": "python",
   "name": "python3"
  },
  "language_info": {
   "codemirror_mode": {
    "name": "ipython",
    "version": 2
   },
   "file_extension": ".py",
   "mimetype": "text/x-python",
   "name": "python",
   "nbconvert_exporter": "python",
   "pygments_lexer": "ipython2",
   "version": "2.7.6"
  }
 },
 "nbformat": 4,
 "nbformat_minor": 5
}
