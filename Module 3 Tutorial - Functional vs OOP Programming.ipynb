{
 "cells": [
  {
   "cell_type": "code",
   "execution_count": 1,
   "id": "9e603193-5583-4e93-882e-921ad260be5b",
   "metadata": {},
   "outputs": [],
   "source": [
    "class Solution:\n",
    "    def sort012(self, arr):\n",
    "       return(arr.sort())\n",
    "        "
   ]
  },
  {
   "cell_type": "code",
   "execution_count": null,
   "id": "af8c28a5-f76b-426b-b342-4bba80d128d7",
   "metadata": {},
   "outputs": [],
   "source": [
    "new_list = lambda arr: sorted(arr)"
   ]
  },
  {
   "cell_type": "code",
   "execution_count": null,
   "id": "72986b83-1b06-49b9-8ba8-3dd5de6ad9da",
   "metadata": {},
   "outputs": [],
   "source": [
    "print(new_list([1,2,0,1,2]))"
   ]
  }
 ],
 "metadata": {
  "kernelspec": {
   "display_name": "Python 3 (ipykernel)",
   "language": "python",
   "name": "python3"
  },
  "language_info": {
   "codemirror_mode": {
    "name": "ipython",
    "version": 3
   },
   "file_extension": ".py",
   "mimetype": "text/x-python",
   "name": "python",
   "nbconvert_exporter": "python",
   "pygments_lexer": "ipython3",
   "version": "3.13.7"
  }
 },
 "nbformat": 4,
 "nbformat_minor": 5
}
