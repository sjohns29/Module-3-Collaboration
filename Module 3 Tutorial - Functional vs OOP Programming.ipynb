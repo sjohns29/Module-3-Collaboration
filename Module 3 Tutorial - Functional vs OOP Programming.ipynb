{
 "cells": [
  {
   "cell_type": "code",
   "id": "9e603193-5583-4e93-882e-921ad260be5b",
   "metadata": {
    "ExecuteTime": {
     "end_time": "2025-10-01T16:04:39.248041Z",
     "start_time": "2025-10-01T16:04:39.244582Z"
    }
   },
   "source": [
    "class Solution:\n",
    "    def sortArray(self, nums):\n",
    "        nums.sort()\n",
    "        return nums\n",
    "Solution().sortArray([0, 0, 2, 2, 1, 2])\n",
    "        "
   ],
   "outputs": [
    {
     "data": {
      "text/plain": [
       "[0, 0, 1, 2, 2, 2]"
      ]
     },
     "execution_count": 19,
     "metadata": {},
     "output_type": "execute_result"
    }
   ],
   "execution_count": 19
  },
  {
   "cell_type": "code",
   "id": "af8c28a5-f76b-426b-b342-4bba80d128d7",
   "metadata": {
    "ExecuteTime": {
     "end_time": "2025-10-01T16:01:29.927316Z",
     "start_time": "2025-10-01T16:01:29.924482Z"
    }
   },
   "source": [
    "new_list = lambda arr: sorted(arr)"
   ],
   "outputs": [],
   "execution_count": 3
  },
  {
   "cell_type": "code",
   "id": "72986b83-1b06-49b9-8ba8-3dd5de6ad9da",
   "metadata": {
    "ExecuteTime": {
     "end_time": "2025-10-01T16:03:24.634998Z",
     "start_time": "2025-10-01T16:03:24.632130Z"
    }
   },
   "source": [
    "print(new_list([1,2,0,1,2]))"
   ],
   "outputs": [
    {
     "name": "stdout",
     "output_type": "stream",
     "text": [
      "[0, 1, 1, 2, 2]\n"
     ]
    }
   ],
   "execution_count": 15
  }
 ],
 "metadata": {
  "kernelspec": {
   "display_name": "Python 3 (ipykernel)",
   "language": "python",
   "name": "python3"
  },
  "language_info": {
   "codemirror_mode": {
    "name": "ipython",
    "version": 3
   },
   "file_extension": ".py",
   "mimetype": "text/x-python",
   "name": "python",
   "nbconvert_exporter": "python",
   "pygments_lexer": "ipython3",
   "version": "3.13.7"
  }
 },
 "nbformat": 4,
 "nbformat_minor": 5
}
